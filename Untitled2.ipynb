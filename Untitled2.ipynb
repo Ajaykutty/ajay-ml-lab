{
 "cells": [
  {
   "cell_type": "code",
   "execution_count": 1,
   "metadata": {},
   "outputs": [],
   "source": [
    "import numpy as np\n",
    "import pandas as pd\n",
    "import csv\n",
    "from pgmpy.estimators import MaximumLikelihoodEstimator\n",
    "from pgmpy.models import BayesianModel\n",
    "from pgmpy.inference import VariableElimination"
   ]
  },
  {
   "cell_type": "code",
   "execution_count": 2,
   "metadata": {},
   "outputs": [],
   "source": [
    "lines=list(csv.reader(open('heart.csv','r')))\n",
    "attributes=lines[0]"
   ]
  },
  {
   "cell_type": "code",
   "execution_count": 3,
   "metadata": {},
   "outputs": [],
   "source": [
    "heartDisease=pd.read_csv('heart.csv',names=attributes)\n",
    "heartDisease=heartDisease.replace('?',np.nan)\n",
    "model=BayesianModel([('sex','heartdisease'),('age','heartdisease'),('cp','heartdisease'),('heartdisease','fbs'),('heartdisease','restecg')])"
   ]
  },
  {
   "cell_type": "code",
   "execution_count": 4,
   "metadata": {},
   "outputs": [
    {
     "name": "stdout",
     "output_type": "stream",
     "text": [
      "learning using maximum likelihood estimators\n",
      "inferencing using bayesian model\n"
     ]
    }
   ],
   "source": [
    "print(\"learning using maximum likelihood estimators\")\n",
    "model.fit(heartDisease,estimator=MaximumLikelihoodEstimator)\n",
    "print(\"inferencing using bayesian model\")\n",
    "heartDisease_infer=VariableElimination(model)"
   ]
  },
  {
   "cell_type": "code",
   "execution_count": 5,
   "metadata": {},
   "outputs": [
    {
     "name": "stderr",
     "output_type": "stream",
     "text": [
      "C:\\Users\\dell\\Anaconda3\\lib\\site-packages\\pgmpy\\factors\\discrete\\DiscreteFactor.py:519: UserWarning: Found unknown state name. Trying to switch to using all state names as state numbers\n",
      "  \"Found unknown state name. Trying to switch to using all state names as state numbers\"\n",
      "Finding Elimination Order: : 100%|██████████████████████████████████████████████████████| 4/4 [00:00<00:00, 669.05it/s]\n",
      "Eliminating: sex: 100%|█████████████████████████████████████████████████████████████████| 4/4 [00:00<00:00, 138.29it/s]"
     ]
    },
    {
     "name": "stdout",
     "output_type": "stream",
     "text": [
      "the probability of heart disease with fbs:1\n",
      "+----------------------------+---------------------+\n",
      "| heartdisease               |   phi(heartdisease) |\n",
      "+============================+=====================+\n",
      "| heartdisease(0)            |              0.3933 |\n",
      "+----------------------------+---------------------+\n",
      "| heartdisease(1)            |              0.0859 |\n",
      "+----------------------------+---------------------+\n",
      "| heartdisease(2)            |              0.2504 |\n",
      "+----------------------------+---------------------+\n",
      "| heartdisease(3)            |              0.2274 |\n",
      "+----------------------------+---------------------+\n",
      "| heartdisease(4)            |              0.0429 |\n",
      "+----------------------------+---------------------+\n",
      "| heartdisease(heartdisease) |              0.0000 |\n",
      "+----------------------------+---------------------+\n",
      "the probability of heart disease with restecg:2\n"
     ]
    },
    {
     "name": "stderr",
     "output_type": "stream",
     "text": [
      "\n",
      "Finding Elimination Order: : 100%|██████████████████████████████████████████████████████| 4/4 [00:00<00:00, 772.75it/s]\n",
      "Eliminating: sex: 100%|██████████████████████████████████████████████████████████████████| 4/4 [00:00<00:00, 34.00it/s]"
     ]
    },
    {
     "name": "stdout",
     "output_type": "stream",
     "text": [
      "+----------------------------+---------------------+\n",
      "| heartdisease               |   phi(heartdisease) |\n",
      "+============================+=====================+\n",
      "| heartdisease(0)            |              0.3192 |\n",
      "+----------------------------+---------------------+\n",
      "| heartdisease(1)            |              0.2473 |\n",
      "+----------------------------+---------------------+\n",
      "| heartdisease(2)            |              0.1396 |\n",
      "+----------------------------+---------------------+\n",
      "| heartdisease(3)            |              0.1742 |\n",
      "+----------------------------+---------------------+\n",
      "| heartdisease(4)            |              0.1197 |\n",
      "+----------------------------+---------------------+\n",
      "| heartdisease(heartdisease) |              0.0000 |\n",
      "+----------------------------+---------------------+\n"
     ]
    },
    {
     "name": "stderr",
     "output_type": "stream",
     "text": [
      "\n"
     ]
    }
   ],
   "source": [
    "print(\"the probability of heart disease with fbs:1\")\n",
    "q1=heartDisease_infer.query(variables=['heartdisease'],evidence=({'fbs':1}))\n",
    "print(q1)\n",
    "print(\"the probability of heart disease with restecg:2\")\n",
    "q2=heartDisease_infer.query(variables=['heartdisease'],evidence=({'restecg':2}))\n",
    "print(q2)"
   ]
  },
  {
   "cell_type": "code",
   "execution_count": null,
   "metadata": {},
   "outputs": [],
   "source": []
  }
 ],
 "metadata": {
  "kernelspec": {
   "display_name": "Python 3",
   "language": "python",
   "name": "python3"
  },
  "language_info": {
   "codemirror_mode": {
    "name": "ipython",
    "version": 3
   },
   "file_extension": ".py",
   "mimetype": "text/x-python",
   "name": "python",
   "nbconvert_exporter": "python",
   "pygments_lexer": "ipython3",
   "version": "3.7.6"
  }
 },
 "nbformat": 4,
 "nbformat_minor": 4
}
